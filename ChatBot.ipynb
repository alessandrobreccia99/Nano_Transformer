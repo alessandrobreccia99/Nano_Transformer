{
 "cells": [
  {
   "cell_type": "code",
   "execution_count": 1,
   "metadata": {},
   "outputs": [],
   "source": [
    "import torch\n",
    "from BumbleBee import decode, encode, tok_encode\n",
    "from BumbleBee import BigramLanguageModel\n"
   ]
  },
  {
   "cell_type": "code",
   "execution_count": 32,
   "metadata": {},
   "outputs": [
    {
     "data": {
      "text/plain": [
       "<torch._C.Generator at 0x1196b12d0>"
      ]
     },
     "execution_count": 32,
     "metadata": {},
     "output_type": "execute_result"
    }
   ],
   "source": [
    "\n",
    "device = 'mps' if torch.backends.mps.is_available() else 'cpu'\n",
    "\n",
    "model = BigramLanguageModel()\n",
    "model.load_state_dict(torch.load('BumbleBee_state_dict.pth'))\n",
    "model.eval()\n",
    "model.to(device)\n",
    "\n",
    "#context = torch.zeros((1,1), dtype=torch.long).to(device)\n",
    "question = 'do you know arianna? <eos>'\n",
    "text = list(question)\n",
    "tokens = tok_encode(question)\n",
    "context = encode(text,tokens)\n",
    "context = torch.tensor(context, dtype=torch.long).to(device).view(1,-1)\n",
    "\n",
    "torch.manual_seed(1234)"
   ]
  },
  {
   "cell_type": "code",
   "execution_count": 33,
   "metadata": {},
   "outputs": [
    {
     "name": "stdout",
     "output_type": "stream",
     "text": [
      "Me: do you know arianna? <eos>\n",
      "BumbleBee: <sos> you should bet you do stand if you want to go to home with more police. <eos>\n"
     ]
    }
   ],
   "source": [
    "print('Me:',question)\n",
    "print('BumbleBee:', decode(model.generate(context, max_new_tokens=100, T=0.7).tolist()))"
   ]
  },
  {
   "cell_type": "code",
   "execution_count": null,
   "metadata": {},
   "outputs": [],
   "source": []
  }
 ],
 "metadata": {
  "kernelspec": {
   "display_name": "Python 3",
   "language": "python",
   "name": "python3"
  },
  "language_info": {
   "codemirror_mode": {
    "name": "ipython",
    "version": 3
   },
   "file_extension": ".py",
   "mimetype": "text/x-python",
   "name": "python",
   "nbconvert_exporter": "python",
   "pygments_lexer": "ipython3",
   "version": "3.11.10"
  }
 },
 "nbformat": 4,
 "nbformat_minor": 2
}
